{
 "cells": [
  {
   "cell_type": "markdown",
   "metadata": {},
   "source": [
    "<h1>SD-WAN Basic Automation Bootcamp</h1>\n",
    "<p>\n",
    "The goal of this notebook is to get familar with working with the sd-wan apis\n",
    "</p>\n",
    "<ol>\n",
    "    <li>Authenticate</li>\n",
    "    <li>Get all devices in overlay</li>\n",
    "    <li>Get all device templates</li>\n",
    "    <li>Get Real Time BFD Sessions for a specic device</li>\n",
    "</ol>\n",
    "<h3>Import Libraries</h3>"
   ]
  },
  {
   "cell_type": "code",
   "execution_count": null,
   "metadata": {},
   "outputs": [],
   "source": [
    "\"\"\"\n",
    "copyright Cisco\n",
    "created by bshokrol\n",
    "04/24/2021\n",
    "\n",
    "\"\"\"\n",
    "\n",
    "#pip install requests\n",
    "import requests\n",
    "#ignore insecure requests warning\n",
    "from requests.packages.urllib3.exceptions import InsecureRequestWarning\n",
    "requests.packages.urllib3.disable_warnings(InsecureRequestWarning)\n",
    "\n",
    "\n",
    "import getpass\n",
    "import sys\n",
    "import json\n",
    "#pip install pandas\n",
    "import pandas as pd\n",
    "pd.set_option('display.max_rows', 50)\n",
    "pd.set_option('display.max_columns', 50)\n",
    "pd.set_option('display.width', 2000)"
   ]
  },
  {
   "cell_type": "markdown",
   "metadata": {},
   "source": [
    "<h3>Create class</h3>"
   ]
  },
  {
   "cell_type": "code",
   "execution_count": null,
   "metadata": {},
   "outputs": [],
   "source": [
    "class SdwanBootcamp:\n",
    "    def __init__(self, vmanage_address: str, vmanage_username: str, vmanage_password: str, verify: bool = False):\n",
    "        self.session = self.authenticate(vmanage_address, vmanage_username, vmanage_password)\n",
    "        self.vmanage_address = vmanage_address\n",
    "        self.verify = verify\n",
    "\n",
    "    @staticmethod\n",
    "    def authenticate(vmanage_address: str, vmanage_username: str, vmanage_password: str ,verify: bool = False) -> requests.session:\n",
    "        session = requests.session()\n",
    "        payload = {\n",
    "            \"j_username\": vmanage_username,\n",
    "            \"j_password\": vmanage_password\n",
    "        }\n",
    "        url = f\"{vmanage_address}j_security_check\"\n",
    "        response = session.post(url=url, data=payload, verify=verify)\n",
    "        if \"<html>\" in str(response.content):\n",
    "            print(\"Authentication failed\")\n",
    "            sys.exit(0)\n",
    "        print(\"Authenticated\")\n",
    "        session.headers[\"X-XSRF-TOKEN\"] = session.get(f\"{vmanage_address}dataservice/client/token\").content\n",
    "        session.headers[\"Content-Type\"] = \"application/json\"\n",
    "        return session\n",
    "\n",
    "    def post_request(self, endpoint: str, payload: dict) -> requests.Response:\n",
    "        data = json.dumps(payload)\n",
    "        url = f\"{self.vmanage_address}{endpoint}\"\n",
    "        return self.session.post(url=url, data=data, verify=self.verify)\n",
    "\n",
    "    def get_request(self, endpoint: str) -> requests.Response:\n",
    "        url = f\"{self.vmanage_address}{endpoint}\"\n",
    "        return self.session.get(url=url, verify=self.verify)\n"
   ]
  },
  {
   "cell_type": "markdown",
   "metadata": {},
   "source": [
    "<h3>1. Initialize class with credentials and Authenticate</h3>"
   ]
  },
  {
   "cell_type": "code",
   "execution_count": null,
   "metadata": {},
   "outputs": [],
   "source": [
    "vmanage_ip = \"128.107.222.2\"\n",
    "vmanage_port = \"8443\"\n",
    "vmanage_username = \"admin\"\n",
    "vmanage_password = getpass.getpass(\"vmanage password: \")\n",
    "vmanage_address = f\"https://{vmanage_ip}:{vmanage_port}/\"\n",
    "sdwan_bootcamp = SdwanBootcamp(vmanage_address=vmanage_address, vmanage_username=vmanage_username, vmanage_password=vmanage_password)"
   ]
  },
  {
   "cell_type": "markdown",
   "metadata": {},
   "source": [
    "<h3>2. Get all devices in overlay using get_request</h3>\n",
    "<a href=\"https://developer.cisco.com/docs/sdwan/#!device-inventory\">Get Connected Devices</a>"
   ]
  },
  {
   "cell_type": "code",
   "execution_count": null,
   "metadata": {},
   "outputs": [],
   "source": [
    "get_devices = \"dataservice/device\"\n",
    "response = sdwan_bootcamp.get_request(endpoint=get_devices)\n",
    "print(response.status_code)\n",
    "devices_df = pd.DataFrame(response.json().get(\"data\"))"
   ]
  },
  {
   "cell_type": "code",
   "execution_count": null,
   "metadata": {},
   "outputs": [],
   "source": [
    "devices_df"
   ]
  },
  {
   "cell_type": "markdown",
   "metadata": {},
   "source": [
    "<h3>3. Get all device templates in vmanage using get_request</h3>\n",
    "<a href=\"https://developer.cisco.com/docs/sdwan/#!device-configuration\">Get Device Templates</a>\n"
   ]
  },
  {
   "cell_type": "code",
   "execution_count": null,
   "metadata": {},
   "outputs": [],
   "source": [
    "get_all_device_templates = \"dataservice/template/device\"\n",
    "response = sdwan_bootcamp.get_request(get_all_device_templates)\n",
    "print(response.status_code)\n",
    "all_device_templates_df = pd.DataFrame(response.json().get(\"data\"))"
   ]
  },
  {
   "cell_type": "code",
   "execution_count": null,
   "metadata": {},
   "outputs": [],
   "source": [
    "all_device_templates_df"
   ]
  },
  {
   "cell_type": "markdown",
   "metadata": {},
   "source": [
    "<h3>4. Get current bfd session for a specific device using get_request</h3>\n",
    "<a href=\"https://developer.cisco.com/docs/sdwan/#!device-realtime-monitoring/bfd\">Real time monitoring BFD</a>\n"
   ]
  },
  {
   "cell_type": "code",
   "execution_count": null,
   "metadata": {},
   "outputs": [],
   "source": [
    "get_bfd_sess = \"dataservice/device/bfd/sessions?deviceId={0}\"\n",
    "response = sdwan_bootcamp.get_request(get_bfd_sess.format(\"1.1.1.15\"))\n",
    "print(response.status_code)\n",
    "bfd_sess_df = pd.DataFrame(response.json().get(\"data\"))"
   ]
  },
  {
   "cell_type": "code",
   "execution_count": null,
   "metadata": {},
   "outputs": [],
   "source": [
    "bfd_sess_df"
   ]
  },
  {
   "cell_type": "code",
   "execution_count": null,
   "metadata": {},
   "outputs": [],
   "source": []
  }
 ],
 "metadata": {
  "kernelspec": {
   "display_name": "Python 3",
   "language": "python",
   "name": "python3"
  },
  "language_info": {
   "codemirror_mode": {
    "name": "ipython",
    "version": 3
   },
   "file_extension": ".py",
   "mimetype": "text/x-python",
   "name": "python",
   "nbconvert_exporter": "python",
   "pygments_lexer": "ipython3",
   "version": "3.9.4"
  }
 },
 "nbformat": 4,
 "nbformat_minor": 4
}
